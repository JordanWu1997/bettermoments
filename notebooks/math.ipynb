{
 "cells": [
  {
   "cell_type": "code",
   "execution_count": 1,
   "metadata": {},
   "outputs": [],
   "source": [
    "import numpy as np\n",
    "import sympy as sp"
   ]
  },
  {
   "cell_type": "markdown",
   "metadata": {},
   "source": [
    "First, let's derive the inverse X matrix that maps from fluxes to \"a\" coefficients:"
   ]
  },
  {
   "cell_type": "code",
   "execution_count": 2,
   "metadata": {},
   "outputs": [
    {
     "data": {
      "text/plain": [
       "array([[ 0.5, -1. ,  0.5],\n",
       "       [-0.5,  0. ,  0.5],\n",
       "       [ 0. ,  1. ,  0. ]])"
      ]
     },
     "execution_count": 2,
     "metadata": {},
     "output_type": "execute_result"
    }
   ],
   "source": [
    "X = np.vander([-1, 0, 1], 3)\n",
    "np.linalg.inv(X)"
   ]
  },
  {
   "cell_type": "markdown",
   "metadata": {},
   "source": [
    "Then, let's propagate the uncertainties:"
   ]
  },
  {
   "cell_type": "code",
   "execution_count": 3,
   "metadata": {},
   "outputs": [
    {
     "data": {
      "text/plain": [
       "array([[ 1.5,  0. , -1. ],\n",
       "       [ 0. ,  0.5,  0. ],\n",
       "       [-1. ,  0. ,  1. ]])"
      ]
     },
     "execution_count": 3,
     "metadata": {},
     "output_type": "execute_result"
    }
   ],
   "source": [
    "np.linalg.inv(np.dot(X.T, X))"
   ]
  },
  {
   "cell_type": "markdown",
   "metadata": {},
   "source": [
    "This means that a_1 and a_2 are independent with variances 0.5 and 1.5 respectively."
   ]
  },
  {
   "cell_type": "code",
   "execution_count": 4,
   "metadata": {},
   "outputs": [
    {
     "name": "stdout",
     "output_type": "stream",
     "text": [
      "a0 = 1.0*f_max\n",
      "a1 = -0.5*f_minus + 0.5*f_plus\n",
      "a2 = -1.0*f_max + 0.5*f_minus + 0.5*f_plus\n"
     ]
    }
   ],
   "source": [
    "f_minus, f_max, f_plus = sp.symbols(\"f_minus f_max f_plus\")\n",
    "f = sp.Matrix([[f_minus], [f_max], [f_plus]])\n",
    "X_s = sp.Matrix(X)\n",
    "A = X_s**-1 * f\n",
    "a2 = A[0, 0]\n",
    "a1 = A[1, 0]\n",
    "a0 = A[2, 0]\n",
    "print(\"a0 =\", a0)\n",
    "print(\"a1 =\", a1)\n",
    "print(\"a2 =\", a2)"
   ]
  },
  {
   "cell_type": "code",
   "execution_count": 5,
   "metadata": {},
   "outputs": [
    {
     "name": "stdout",
     "output_type": "stream",
     "text": [
      "x_max = x0 - (-0.5*f_minus + 0.5*f_plus)/(-2.0*f_max + f_minus + f_plus)\n"
     ]
    }
   ],
   "source": [
    "x0 = sp.symbols(\"x0\")\n",
    "x_max = x0 - a1 / (2*a2)\n",
    "print(\"x_max =\", x_max)"
   ]
  },
  {
   "cell_type": "code",
   "execution_count": 13,
   "metadata": {},
   "outputs": [
    {
     "name": "stdout",
     "output_type": "stream",
     "text": [
      "y_max = 1.0*(4.0*f_max**2 - 2.0*f_max*f_minus - 2.0*f_max*f_plus + 0.25*f_minus**2 - 0.5*f_minus*f_plus + 0.25*f_plus**2)/(4.0*f_max - 2.0*f_minus - 2.0*f_plus)\n"
     ]
    }
   ],
   "source": [
    "y_max = a0 + a1 * (x_max - x0) + a2 * (x_max - x0)**2\n",
    "print(\"y_max =\", sp.simplify(y_max))"
   ]
  },
  {
   "cell_type": "code",
   "execution_count": 29,
   "metadata": {},
   "outputs": [
    {
     "name": "stdout",
     "output_type": "stream",
     "text": [
      "sig2_a0 = df_max**2\n",
      "sig2_a1 = df_max**2 + df_minus**2/4 + df_plus**2/4\n",
      "sig2_a2 = df_minus**2/4 + df_plus**2/4\n",
      "sig_a1a2 = -df_minus**2/4 + df_plus**2/4\n",
      "sig_a0a2 = -df_max**2\n",
      "sig_a0a1 = 0\n"
     ]
    }
   ],
   "source": [
    "df_minus, df_max, df_plus = sp.symbols(\"df_minus df_max df_plus\")\n",
    "inv_Sigma = sp.Matrix([[1/df_minus**2, 0, 0], [0, 1/df_max**2, 0], [0, 0, 1/df_plus**2]])\n",
    "Sigma_a = sp.simplify((X_s.T * inv_Sigma * X_s)**-1)\n",
    "\n",
    "sig2_a1 = Sigma_a[0, 0]\n",
    "sig2_a2 = Sigma_a[1, 1]\n",
    "sig2_a0 = Sigma_a[2, 2]\n",
    "\n",
    "sig_a1a2 = Sigma_a[0, 1]\n",
    "sig_a0a2 = Sigma_a[0, 2]\n",
    "sig_a0a1 = Sigma_a[1, 2]\n",
    "\n",
    "print(\"sig2_a0 =\", sig2_a0)\n",
    "print(\"sig2_a1 =\", sig2_a1)\n",
    "print(\"sig2_a2 =\", sig2_a2)\n",
    "\n",
    "print(\"sig_a1a2 =\", sig_a1a2)\n",
    "print(\"sig_a0a2 =\", sig_a0a2)\n",
    "print(\"sig_a0a1 =\", sig_a0a1)"
   ]
  },
  {
   "cell_type": "code",
   "execution_count": 35,
   "metadata": {},
   "outputs": [
    {
     "name": "stdout",
     "output_type": "stream",
     "text": [
      "x_max_var = 0.0625*(a1_**2*(df_minus**2 + df_plus**2) + a1_*a2_*(df_minus**2 - df_plus**2) + a2_**2*(4.0*df_max**2 + df_minus**2 + df_plus**2))/a2_**4\n"
     ]
    },
    {
     "data": {
      "text/plain": [
       "df**2*(a1_**2 + 3*a2_**2)/(8*a2_**4)"
      ]
     },
     "execution_count": 35,
     "metadata": {},
     "output_type": "execute_result"
    }
   ],
   "source": [
    "a0_, a1_, a2_, df = sp.symbols(\"a0_ a1_ a2_ df\")\n",
    "f = a1_ / (2*a2_)\n",
    "\n",
    "sig2_f = sp.diff(f, a1_)*sp.diff(f, a2_)*sig_a1a2\n",
    "sig2_f += sp.diff(f, a1_)**2*sig2_a1\n",
    "sig2_f += sp.diff(f, a2_)**2*sig2_a2\n",
    "print(\"x_max_var =\", sp.simplify(sig2_f).evalf())\n",
    "\n",
    "subs = [(df_minus, df), (df_plus, df), (df_max, df)]\n",
    "sp.simplify(sig2_f.subs(subs))"
   ]
  },
  {
   "cell_type": "code",
   "execution_count": 34,
   "metadata": {},
   "outputs": [
    {
     "name": "stdout",
     "output_type": "stream",
     "text": [
      "y_max = a0_ - a1_**2/(4*a2_)\n",
      "sig2_y = 0.015625*(a1_**4*(df_minus**2 + df_plus**2) + 2.0*a1_**3*a2_*(df_minus**2 - df_plus**2) + 4.0*a1_**2*a2_**2*(df_minus**2 + df_plus**2) + 64.0*a2_**4*df_max**2)/a2_**4\n"
     ]
    }
   ],
   "source": [
    "tmp = -a1_/(2*a2_)\n",
    "y_max = a0_ + a1_ * tmp + a2_ * tmp**2\n",
    "print(\"y_max =\", y_max)\n",
    "\n",
    "sig2_y = sp.diff(y_max, a0_)*sp.diff(y_max, a1_)*sig_a0a1\n",
    "sig2_y += sp.diff(y_max, a0_)*sp.diff(y_max, a2_)*sig_a0a2\n",
    "sig2_y += sp.diff(y_max, a1_)*sp.diff(y_max, a2_)*sig_a1a2\n",
    "sig2_y += sp.diff(y_max, a0_)**2*sig2_a0\n",
    "sig2_y += sp.diff(y_max, a1_)**2*sig2_a1\n",
    "sig2_y += sp.diff(y_max, a2_)**2*sig2_a2\n",
    "\n",
    "print(\"sig2_y =\", sp.simplify(sig2_y).evalf())"
   ]
  },
  {
   "cell_type": "code",
   "execution_count": 33,
   "metadata": {},
   "outputs": [
    {
     "name": "stdout",
     "output_type": "stream",
     "text": [
      "sig2_y = df**2*(0.03125*a1_**4 + 0.125*a1_**2*a2_**2 + a2_**4)/a2_**4\n"
     ]
    }
   ],
   "source": [
    "print(\"sig2_y =\", sp.simplify(sig2_y.subs(subs)).evalf())"
   ]
  },
  {
   "cell_type": "code",
   "execution_count": null,
   "metadata": {},
   "outputs": [],
   "source": []
  }
 ],
 "metadata": {
  "kernelspec": {
   "display_name": "Python 3",
   "language": "python",
   "name": "python3"
  },
  "language_info": {
   "codemirror_mode": {
    "name": "ipython",
    "version": 3
   },
   "file_extension": ".py",
   "mimetype": "text/x-python",
   "name": "python",
   "nbconvert_exporter": "python",
   "pygments_lexer": "ipython3",
   "version": "3.6.1"
  }
 },
 "nbformat": 4,
 "nbformat_minor": 2
}
